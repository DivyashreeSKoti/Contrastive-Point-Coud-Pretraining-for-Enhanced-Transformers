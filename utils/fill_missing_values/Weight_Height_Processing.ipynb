{
 "cells": [
  {
   "cell_type": "code",
   "execution_count": 1,
   "id": "392fee3b-010e-4101-8571-e21f1c8d948e",
   "metadata": {},
   "outputs": [],
   "source": [
    "import FillMissingValue_Numerical as fillMVN\n",
    "import DataLoader as DL\n",
    "import numpy as np\n",
    "import pandas as pd\n",
    "import random\n",
    "import torch\n",
    "from torch.utils.data import TensorDataset\n",
    "from torch.utils.data import DataLoader\n",
    "\n",
    "excel_file = 'MetaData.xlsx'"
   ]
  },
  {
   "cell_type": "code",
   "execution_count": 2,
   "id": "d2c2c38f-c51f-4aab-a51f-30ade239a150",
   "metadata": {},
   "outputs": [],
   "source": [
    "folder_path = \"../../../Data/3dbsf_txt/\""
   ]
  },
  {
   "cell_type": "code",
   "execution_count": 3,
   "id": "44631086-a609-4e17-979d-8a1c38e03cc1",
   "metadata": {},
   "outputs": [
    {
     "name": "stdout",
     "output_type": "stream",
     "text": [
      "/home/dsk2v/PointCloud/BodyScan/FourthDraftWithPartialMetaData/DataLoader/../../../Data/3dbsf_txt/\n",
      "/home/dsk2v/PointCloud/Data/3dbsf_txt\n",
      "The minimum number of lines among all files: 49493\n",
      "The maximum number of lines among all files: 63914\n"
     ]
    }
   ],
   "source": [
    "min_lines, max_lines = DL.get_min_max_lines(folder_path)\n",
    "print(f\"The minimum number of lines among all files: {min_lines}\")\n",
    "print(f\"The maximum number of lines among all files: {max_lines}\")"
   ]
  },
  {
   "cell_type": "markdown",
   "id": "4de2336f-0465-4dc7-acc9-330789bc10ff",
   "metadata": {},
   "source": [
    "# Weight Processing"
   ]
  },
  {
   "cell_type": "code",
   "execution_count": 10,
   "id": "c7b39521-8be6-4f7b-808c-48cbf8200d7f",
   "metadata": {},
   "outputs": [
    {
     "data": {
      "text/html": [
       "<div>\n",
       "<style scoped>\n",
       "    .dataframe tbody tr th:only-of-type {\n",
       "        vertical-align: middle;\n",
       "    }\n",
       "\n",
       "    .dataframe tbody tr th {\n",
       "        vertical-align: top;\n",
       "    }\n",
       "\n",
       "    .dataframe thead th {\n",
       "        text-align: right;\n",
       "    }\n",
       "</style>\n",
       "<table border=\"1\" class=\"dataframe\">\n",
       "  <thead>\n",
       "    <tr style=\"text-align: right;\">\n",
       "      <th></th>\n",
       "      <th>File</th>\n",
       "      <th>Age</th>\n",
       "      <th>Feet</th>\n",
       "      <th>Inches</th>\n",
       "      <th>Weight #</th>\n",
       "      <th>Ethnicity</th>\n",
       "      <th>Male/Female</th>\n",
       "    </tr>\n",
       "  </thead>\n",
       "  <tbody>\n",
       "    <tr>\n",
       "      <th>0</th>\n",
       "      <td>1010 f14 01 001.obj</td>\n",
       "      <td>20.0</td>\n",
       "      <td>5</td>\n",
       "      <td>2</td>\n",
       "      <td>105.0</td>\n",
       "      <td>c</td>\n",
       "      <td>f</td>\n",
       "    </tr>\n",
       "    <tr>\n",
       "      <th>1</th>\n",
       "      <td>1010 f14 01 002.obj</td>\n",
       "      <td>20.0</td>\n",
       "      <td>5</td>\n",
       "      <td>9</td>\n",
       "      <td>270.0</td>\n",
       "      <td>b</td>\n",
       "      <td>f</td>\n",
       "    </tr>\n",
       "    <tr>\n",
       "      <th>2</th>\n",
       "      <td>1010 f14 01 003.obj</td>\n",
       "      <td>23.0</td>\n",
       "      <td>5</td>\n",
       "      <td>2</td>\n",
       "      <td>135.0</td>\n",
       "      <td>o</td>\n",
       "      <td>f</td>\n",
       "    </tr>\n",
       "    <tr>\n",
       "      <th>3</th>\n",
       "      <td>1010 f14 01 004.obj</td>\n",
       "      <td>21.0</td>\n",
       "      <td>6</td>\n",
       "      <td>4</td>\n",
       "      <td>233.0</td>\n",
       "      <td>o</td>\n",
       "      <td>m</td>\n",
       "    </tr>\n",
       "    <tr>\n",
       "      <th>4</th>\n",
       "      <td>1010 f14 01 005.obj</td>\n",
       "      <td>20.0</td>\n",
       "      <td>5</td>\n",
       "      <td>1</td>\n",
       "      <td>110.0</td>\n",
       "      <td>c</td>\n",
       "      <td>f</td>\n",
       "    </tr>\n",
       "  </tbody>\n",
       "</table>\n",
       "</div>"
      ],
      "text/plain": [
       "                  File   Age  Feet  Inches  Weight # Ethnicity Male/Female\n",
       "0  1010 f14 01 001.obj  20.0     5       2     105.0         c           f\n",
       "1  1010 f14 01 002.obj  20.0     5       9     270.0         b           f\n",
       "2  1010 f14 01 003.obj  23.0     5       2     135.0         o           f\n",
       "3  1010 f14 01 004.obj  21.0     6       4     233.0         o           m\n",
       "4  1010 f14 01 005.obj  20.0     5       1     110.0         c           f"
      ]
     },
     "execution_count": 10,
     "metadata": {},
     "output_type": "execute_result"
    }
   ],
   "source": [
    "fields = ['File','Weight #'] \n",
    "metaData_df2 = pd.read_excel(excel_file, sheet_name='Sheet1', usecols=fields)\n",
    "metaData_df.head()\n",
    "# labels, targets2"
   ]
  },
  {
   "cell_type": "code",
   "execution_count": 5,
   "id": "dd625dc6-ccb2-4e83-a113-5c50601d70b8",
   "metadata": {},
   "outputs": [
    {
     "data": {
      "text/plain": [
       "(50, 2)"
      ]
     },
     "execution_count": 5,
     "metadata": {},
     "output_type": "execute_result"
    }
   ],
   "source": [
    "file_lst = metaData_df['File'].to_numpy()\n",
    "file_lst_without_obj = np.array([s.replace(\".obj\", \"\") for s in file_lst])\n",
    "file_lst_without_obj = file_lst_without_obj.tolist()\n",
    "metaData_df['File'] = file_lst_without_obj\n",
    "metaData_df.shape"
   ]
  },
  {
   "cell_type": "code",
   "execution_count": 6,
   "id": "e46a21af-4fcf-4ebf-b142-45a17912dcc2",
   "metadata": {},
   "outputs": [
    {
     "name": "stdout",
     "output_type": "stream",
     "text": [
      "/home/dsk2v/PointCloud/BodyScan/FourthDraftWithPartialMetaData/DataLoader/../../../Data/3dbsf_txt/\n"
     ]
    }
   ],
   "source": [
    "dataset0, targets0, labels0 = DL.load_dataset(folder_path, num_lines=16000)"
   ]
  },
  {
   "cell_type": "code",
   "execution_count": 7,
   "id": "bbebbbff-b8f0-474b-991a-99df7a0b31d0",
   "metadata": {},
   "outputs": [
    {
     "name": "stdout",
     "output_type": "stream",
     "text": [
      "[1, 2, 4, 5, 9, 10, 14, 16, 17, 18, 19, 22, 23, 27, 29, 30, 33, 35, 36, 38, 40, 41, 44, 45, 46, 48, 50, 52, 56, 57, 58, 60, 62, 65, 66, 67, 69, 71, 73, 74, 75, 78, 80, 83, 84, 88, 90, 91, 92, 93]\n"
     ]
    }
   ],
   "source": [
    "file_indices = [i for i, item1 in enumerate(labels0) for item2 in file_lst_without_obj if item1 == item2]\n",
    "print((file_indices))"
   ]
  },
  {
   "cell_type": "code",
   "execution_count": 8,
   "id": "acce8b83-f028-4a16-a31a-9827cf9e8a7c",
   "metadata": {},
   "outputs": [],
   "source": [
    "dataset = dataset0[file_indices]"
   ]
  },
  {
   "cell_type": "code",
   "execution_count": 9,
   "id": "4c193ebe-c6ef-4dd5-9773-81044b0e58de",
   "metadata": {},
   "outputs": [],
   "source": [
    "labels = np.array(labels0)[file_indices]"
   ]
  },
  {
   "cell_type": "code",
   "execution_count": 10,
   "id": "3289f6b0-d527-4f13-be65-c21f2047ae2d",
   "metadata": {},
   "outputs": [],
   "source": [
    "targets = np.array(targets0)[file_indices]"
   ]
  },
  {
   "cell_type": "code",
   "execution_count": 13,
   "id": "04f718cc-20ae-4526-af7e-243191d4308e",
   "metadata": {},
   "outputs": [],
   "source": [
    "target_label_dict = {target: label for target, label in zip(targets, labels)}\n",
    "# target_label_dict\n"
   ]
  },
  {
   "cell_type": "code",
   "execution_count": 14,
   "id": "02377fa2-4e11-4f91-8204-8c338f282e99",
   "metadata": {},
   "outputs": [
    {
     "name": "stdout",
     "output_type": "stream",
     "text": [
      "                   File  Weight #\n",
      "0       1010 f14 01 001     105.0\n",
      "1       1010 f14 01 002     270.0\n",
      "2       1010 f14 01 003     135.0\n",
      "3       1010 f14 01 004     233.0\n",
      "4       1010 f14 01 005     110.0\n",
      "5       1010 f14 01 006     134.0\n",
      "6       1010 f14 01 007     212.0\n",
      "7       1010 f14 01 008     135.0\n",
      "8       1010 f14 01 009     140.0\n",
      "9       1010 f14 01 010     220.0\n",
      "10      1010 f14 01 011     150.0\n",
      "11      1010 f14 01 012     143.0\n",
      "12      1010 f14 01 013     202.0\n",
      "13      1010 f14 01 014     111.0\n",
      "14      1010 f14 01 015     125.0\n",
      "15      1010 f14 01 016     140.0\n",
      "16      1010 f14 01 017     135.0\n",
      "17      1010 f14 01 018     137.0\n",
      "18      1010 f14 01 019     130.0\n",
      "19      1010 f14 01 020     140.0\n",
      "20      PSYPOOL51701003     190.0\n",
      "21  psy pool s17 01 001     173.0\n",
      "22      PSYPOOLS1701002     120.0\n",
      "23      PSYPOOLS1701004     140.0\n",
      "24      PSYPOOLS1701005     114.0\n",
      "25      PSYPOOLS1701006     141.0\n",
      "26      PSYPOOLS1701008     144.0\n",
      "27      PSYPOOLS1701009     150.0\n",
      "28      PSYPOOLS1701011     140.0\n",
      "29      PSYPOOLS1701012     190.0\n",
      "30      PSYPOOLS1701013     280.0\n",
      "31      PSYPOOLS1701014     135.0\n",
      "32      PSYPOOLS1701015     190.0\n",
      "33      PSYPOOLS1701016     203.0\n",
      "34      PSYPOOLS1701017     162.0\n",
      "35      PSYPOOLS1701018     180.0\n",
      "36      PSYPOOLS1701021     135.0\n",
      "37      PSYPOOLS1701022     160.0\n",
      "38      PSYPOOLS1701023     185.0\n",
      "39      PSYPOOLS1701024     210.0\n",
      "40      PSYPOOLS1701025     170.0\n",
      "41      PSYPOOLS1701026     195.0\n",
      "42      PSYPOOLS1701027     183.0\n",
      "43      PSYPOOLS1701028     160.0\n",
      "44      PSYPOOLS1701029     185.0\n",
      "45      PSYPOOLS1701030     155.0\n",
      "46      PSYPOOLS1701031     140.0\n",
      "47      PSYPOOLS1701035     160.0\n",
      "48      PSYPOOLS1701036     130.0\n",
      "49      PSYPOOLS1701037     310.0\n"
     ]
    }
   ],
   "source": [
    "\n",
    "nan_flag = metaData_df.isna()\n",
    "if nan_flag.values.any():\n",
    "    # metaData_df = metaData_df.dropna()\n",
    "    t = fillMVN.fill_missing_value_numerical_chamfer_distance(dataset, labels, metaData_df)\n",
    "    print(t)"
   ]
  },
  {
   "cell_type": "code",
   "execution_count": 15,
   "id": "4716c27a-4009-485e-a270-7ac35c56c8e8",
   "metadata": {},
   "outputs": [],
   "source": [
    "with pd.ExcelWriter(excel_file, engine='openpyxl', mode='a') as writer:\n",
    "    # Write the DataFrame to a new sheet (e.g., 'filled_chamfer')\n",
    "    t.to_excel(writer, sheet_name='filled_chamfer_distance', index=False)"
   ]
  },
  {
   "cell_type": "markdown",
   "id": "11928793-d72f-4f23-b75b-1e2c5c9f625d",
   "metadata": {},
   "source": [
    "# Height Processing"
   ]
  },
  {
   "cell_type": "markdown",
   "id": "57291f31-821f-459f-904a-5499faaf5888",
   "metadata": {},
   "source": [
    "# Processing Weight by contrastive embeddings"
   ]
  },
  {
   "cell_type": "code",
   "execution_count": 2,
   "id": "20e5b5b4-c851-4426-b259-37c39b2610c4",
   "metadata": {},
   "outputs": [
    {
     "data": {
      "text/html": [
       "<div>\n",
       "<style scoped>\n",
       "    .dataframe tbody tr th:only-of-type {\n",
       "        vertical-align: middle;\n",
       "    }\n",
       "\n",
       "    .dataframe tbody tr th {\n",
       "        vertical-align: top;\n",
       "    }\n",
       "\n",
       "    .dataframe thead th {\n",
       "        text-align: right;\n",
       "    }\n",
       "</style>\n",
       "<table border=\"1\" class=\"dataframe\">\n",
       "  <thead>\n",
       "    <tr style=\"text-align: right;\">\n",
       "      <th></th>\n",
       "      <th>File</th>\n",
       "      <th>Feet</th>\n",
       "      <th>Inches</th>\n",
       "    </tr>\n",
       "  </thead>\n",
       "  <tbody>\n",
       "    <tr>\n",
       "      <th>0</th>\n",
       "      <td>1010 f14 01 001.obj</td>\n",
       "      <td>5</td>\n",
       "      <td>2</td>\n",
       "    </tr>\n",
       "    <tr>\n",
       "      <th>1</th>\n",
       "      <td>1010 f14 01 002.obj</td>\n",
       "      <td>5</td>\n",
       "      <td>9</td>\n",
       "    </tr>\n",
       "    <tr>\n",
       "      <th>2</th>\n",
       "      <td>1010 f14 01 003.obj</td>\n",
       "      <td>5</td>\n",
       "      <td>2</td>\n",
       "    </tr>\n",
       "    <tr>\n",
       "      <th>3</th>\n",
       "      <td>1010 f14 01 004.obj</td>\n",
       "      <td>6</td>\n",
       "      <td>4</td>\n",
       "    </tr>\n",
       "    <tr>\n",
       "      <th>4</th>\n",
       "      <td>1010 f14 01 005.obj</td>\n",
       "      <td>5</td>\n",
       "      <td>1</td>\n",
       "    </tr>\n",
       "  </tbody>\n",
       "</table>\n",
       "</div>"
      ],
      "text/plain": [
       "                  File  Feet  Inches\n",
       "0  1010 f14 01 001.obj     5       2\n",
       "1  1010 f14 01 002.obj     5       9\n",
       "2  1010 f14 01 003.obj     5       2\n",
       "3  1010 f14 01 004.obj     6       4\n",
       "4  1010 f14 01 005.obj     5       1"
      ]
     },
     "execution_count": 2,
     "metadata": {},
     "output_type": "execute_result"
    }
   ],
   "source": [
    "fields = ['File', 'Feet','Inches'] \n",
    "metaData_df2 = pd.read_excel(excel_file, sheet_name='Sheet1', usecols=fields)\n",
    "metaData_df2.head()\n",
    "# labels, targets2"
   ]
  },
  {
   "cell_type": "code",
   "execution_count": 3,
   "id": "77bfbbbc-3361-4a17-bd8d-d03bd0177a77",
   "metadata": {},
   "outputs": [
    {
     "data": {
      "text/html": [
       "<div>\n",
       "<style scoped>\n",
       "    .dataframe tbody tr th:only-of-type {\n",
       "        vertical-align: middle;\n",
       "    }\n",
       "\n",
       "    .dataframe tbody tr th {\n",
       "        vertical-align: top;\n",
       "    }\n",
       "\n",
       "    .dataframe thead th {\n",
       "        text-align: right;\n",
       "    }\n",
       "</style>\n",
       "<table border=\"1\" class=\"dataframe\">\n",
       "  <thead>\n",
       "    <tr style=\"text-align: right;\">\n",
       "      <th></th>\n",
       "      <th>File</th>\n",
       "      <th>Feet</th>\n",
       "      <th>Inches</th>\n",
       "      <th>Height</th>\n",
       "    </tr>\n",
       "  </thead>\n",
       "  <tbody>\n",
       "    <tr>\n",
       "      <th>0</th>\n",
       "      <td>1010 f14 01 001.obj</td>\n",
       "      <td>5</td>\n",
       "      <td>2</td>\n",
       "      <td>5.2</td>\n",
       "    </tr>\n",
       "    <tr>\n",
       "      <th>1</th>\n",
       "      <td>1010 f14 01 002.obj</td>\n",
       "      <td>5</td>\n",
       "      <td>9</td>\n",
       "      <td>5.9</td>\n",
       "    </tr>\n",
       "    <tr>\n",
       "      <th>2</th>\n",
       "      <td>1010 f14 01 003.obj</td>\n",
       "      <td>5</td>\n",
       "      <td>2</td>\n",
       "      <td>5.2</td>\n",
       "    </tr>\n",
       "    <tr>\n",
       "      <th>3</th>\n",
       "      <td>1010 f14 01 004.obj</td>\n",
       "      <td>6</td>\n",
       "      <td>4</td>\n",
       "      <td>6.4</td>\n",
       "    </tr>\n",
       "    <tr>\n",
       "      <th>4</th>\n",
       "      <td>1010 f14 01 005.obj</td>\n",
       "      <td>5</td>\n",
       "      <td>1</td>\n",
       "      <td>5.1</td>\n",
       "    </tr>\n",
       "  </tbody>\n",
       "</table>\n",
       "</div>"
      ],
      "text/plain": [
       "                  File  Feet  Inches  Height\n",
       "0  1010 f14 01 001.obj     5       2     5.2\n",
       "1  1010 f14 01 002.obj     5       9     5.9\n",
       "2  1010 f14 01 003.obj     5       2     5.2\n",
       "3  1010 f14 01 004.obj     6       4     6.4\n",
       "4  1010 f14 01 005.obj     5       1     5.1"
      ]
     },
     "execution_count": 3,
     "metadata": {},
     "output_type": "execute_result"
    }
   ],
   "source": [
    "metaData_df2['Height'] = (metaData_df2['Feet'].astype(str) + '.' + metaData_df2['Inches'].astype(str)).astype(float)\n",
    "metaData_df2.head()"
   ]
  },
  {
   "cell_type": "code",
   "execution_count": 4,
   "id": "3575e9c2-cffe-4cd6-8e3f-301a1df3c4b3",
   "metadata": {},
   "outputs": [],
   "source": [
    "with pd.ExcelWriter(excel_file, engine='openpyxl', mode='a') as writer:\n",
    "    # Write the DataFrame to a new sheet (e.g., 'filled_chamfer')\n",
    "    metaData_df2.to_excel(writer, sheet_name='processed_height', index=False)"
   ]
  },
  {
   "cell_type": "code",
   "execution_count": 5,
   "id": "5252ed65-32c1-4c83-b69c-7e8be902e49a",
   "metadata": {},
   "outputs": [],
   "source": [
    "folder_path = \"../../../Data/3dbsf_txt/\""
   ]
  },
  {
   "cell_type": "code",
   "execution_count": 6,
   "id": "06ef819e-b3b8-4cf9-996d-d903d1006a9e",
   "metadata": {},
   "outputs": [
    {
     "name": "stdout",
     "output_type": "stream",
     "text": [
      "/home/dsk2v/PointCloud/BodyScan/FourthDraftWithPartialMetaData/DataLoader/../../../Data/3dbsf_txt/\n",
      "/home/dsk2v/PointCloud/Data/3dbsf_txt\n",
      "The minimum number of lines among all files: 49493\n",
      "The maximum number of lines among all files: 63914\n"
     ]
    }
   ],
   "source": [
    "min_lines, max_lines = DL.get_min_max_lines(folder_path)\n",
    "print(f\"The minimum number of lines among all files: {min_lines}\")\n",
    "print(f\"The maximum number of lines among all files: {max_lines}\")"
   ]
  },
  {
   "cell_type": "code",
   "execution_count": 7,
   "id": "91b759f5-032f-49de-ab37-bc31b858137f",
   "metadata": {},
   "outputs": [
    {
     "data": {
      "text/html": [
       "<div>\n",
       "<style scoped>\n",
       "    .dataframe tbody tr th:only-of-type {\n",
       "        vertical-align: middle;\n",
       "    }\n",
       "\n",
       "    .dataframe tbody tr th {\n",
       "        vertical-align: top;\n",
       "    }\n",
       "\n",
       "    .dataframe thead th {\n",
       "        text-align: right;\n",
       "    }\n",
       "</style>\n",
       "<table border=\"1\" class=\"dataframe\">\n",
       "  <thead>\n",
       "    <tr style=\"text-align: right;\">\n",
       "      <th></th>\n",
       "      <th>File</th>\n",
       "      <th>Weight #</th>\n",
       "    </tr>\n",
       "  </thead>\n",
       "  <tbody>\n",
       "    <tr>\n",
       "      <th>0</th>\n",
       "      <td>1010 f14 01 001.obj</td>\n",
       "      <td>105.0</td>\n",
       "    </tr>\n",
       "    <tr>\n",
       "      <th>1</th>\n",
       "      <td>1010 f14 01 002.obj</td>\n",
       "      <td>270.0</td>\n",
       "    </tr>\n",
       "    <tr>\n",
       "      <th>2</th>\n",
       "      <td>1010 f14 01 003.obj</td>\n",
       "      <td>135.0</td>\n",
       "    </tr>\n",
       "    <tr>\n",
       "      <th>3</th>\n",
       "      <td>1010 f14 01 004.obj</td>\n",
       "      <td>233.0</td>\n",
       "    </tr>\n",
       "    <tr>\n",
       "      <th>4</th>\n",
       "      <td>1010 f14 01 005.obj</td>\n",
       "      <td>110.0</td>\n",
       "    </tr>\n",
       "  </tbody>\n",
       "</table>\n",
       "</div>"
      ],
      "text/plain": [
       "                  File  Weight #\n",
       "0  1010 f14 01 001.obj     105.0\n",
       "1  1010 f14 01 002.obj     270.0\n",
       "2  1010 f14 01 003.obj     135.0\n",
       "3  1010 f14 01 004.obj     233.0\n",
       "4  1010 f14 01 005.obj     110.0"
      ]
     },
     "execution_count": 7,
     "metadata": {},
     "output_type": "execute_result"
    }
   ],
   "source": [
    "fields = ['File', 'Weight #'] \n",
    "metaData_df = pd.read_excel(excel_file, sheet_name='Sheet1', usecols=fields)\n",
    "metaData_df.head()\n",
    "# labels, targets2"
   ]
  },
  {
   "cell_type": "code",
   "execution_count": 5,
   "id": "92274fa2-5a2e-4d93-9aca-1ef8e9ed5747",
   "metadata": {},
   "outputs": [
    {
     "data": {
      "text/plain": [
       "(50, 2)"
      ]
     },
     "execution_count": 5,
     "metadata": {},
     "output_type": "execute_result"
    }
   ],
   "source": [
    "file_lst = metaData_df['File'].to_numpy()\n",
    "file_lst_without_obj = np.array([s.replace(\".obj\", \"\") for s in file_lst])\n",
    "file_lst_without_obj = file_lst_without_obj.tolist()\n",
    "metaData_df['File'] = file_lst_without_obj\n",
    "metaData_df.shape"
   ]
  },
  {
   "cell_type": "code",
   "execution_count": 21,
   "id": "52f31011-ea6d-480e-80db-7bfe18d60cc4",
   "metadata": {},
   "outputs": [
    {
     "name": "stdout",
     "output_type": "stream",
     "text": [
      "/home/dsk2v/PointCloud/BodyScan/FourthDraftWithPartialMetaData/DataLoader/../../../Data/3dbsf_txt/\n"
     ]
    }
   ],
   "source": [
    "dataset0, targets0, labels0 = DL.load_dataset(folder_path, num_lines=16000)"
   ]
  },
  {
   "cell_type": "code",
   "execution_count": 22,
   "id": "98337a67-45de-455f-ae98-00789135cba4",
   "metadata": {},
   "outputs": [
    {
     "name": "stdout",
     "output_type": "stream",
     "text": [
      "[1, 2, 4, 5, 9, 10, 14, 16, 17, 18, 19, 22, 23, 27, 29, 30, 33, 35, 36, 38, 40, 41, 44, 45, 46, 48, 50, 52, 56, 57, 58, 60, 62, 65, 66, 67, 69, 71, 73, 74, 75, 78, 80, 83, 84, 88, 90, 91, 92, 93]\n"
     ]
    }
   ],
   "source": [
    "file_indices = [i for i, item1 in enumerate(labels0) for item2 in file_lst_without_obj if item1 == item2]\n",
    "print((file_indices))"
   ]
  },
  {
   "cell_type": "code",
   "execution_count": 23,
   "id": "8575fdf4-eaab-4608-bd80-cab0b3ee1f30",
   "metadata": {},
   "outputs": [],
   "source": [
    "dataset = dataset0[file_indices]"
   ]
  },
  {
   "cell_type": "code",
   "execution_count": 24,
   "id": "a4867435-fca9-47c7-a11a-57beb2b47e14",
   "metadata": {},
   "outputs": [],
   "source": [
    "labels = np.array(labels0)[file_indices]"
   ]
  },
  {
   "cell_type": "code",
   "execution_count": 25,
   "id": "01f32d71-084a-4a95-bf61-cdc74a339392",
   "metadata": {},
   "outputs": [],
   "source": [
    "targets = np.array(targets0)[file_indices]"
   ]
  },
  {
   "cell_type": "code",
   "execution_count": 26,
   "id": "f187b45a-ecfa-4b1a-aa49-93c9e151dfa4",
   "metadata": {},
   "outputs": [
    {
     "data": {
      "text/plain": [
       "{72: 'PSYPOOLS1701015',\n",
       " 48: '1010 f14 01 009',\n",
       " 76: 'PSYPOOLS1701021',\n",
       " 79: 'PSYPOOLS1701024',\n",
       " 54: '1010 f14 01 015',\n",
       " 70: 'PSYPOOLS1701013',\n",
       " 87: 'PSYPOOLS1701035',\n",
       " 63: 'PSYPOOLS1701004',\n",
       " 51: '1010 f14 01 012',\n",
       " 77: 'PSYPOOLS1701022',\n",
       " 60: 'PSYPOOL51701003',\n",
       " 47: '1010 f14 01 008',\n",
       " 82: 'PSYPOOLS1701027',\n",
       " 50: '1010 f14 01 011',\n",
       " 81: 'PSYPOOLS1701026',\n",
       " 59: '1010 f14 01 020',\n",
       " 62: 'PSYPOOLS1701002',\n",
       " 58: '1010 f14 01 019',\n",
       " 75: 'PSYPOOLS1701018',\n",
       " 69: 'PSYPOOLS1701012',\n",
       " 86: 'PSYPOOLS1701031',\n",
       " 67: 'PSYPOOLS1701009',\n",
       " 84: 'PSYPOOLS1701029',\n",
       " 88: 'PSYPOOLS1701036',\n",
       " 83: 'PSYPOOLS1701028',\n",
       " 45: '1010 f14 01 006',\n",
       " 68: 'PSYPOOLS1701011',\n",
       " 55: '1010 f14 01 016',\n",
       " 52: '1010 f14 01 013',\n",
       " 66: 'PSYPOOLS1701008',\n",
       " 71: 'PSYPOOLS1701014',\n",
       " 49: '1010 f14 01 010',\n",
       " 65: 'PSYPOOLS1701006',\n",
       " 74: 'PSYPOOLS1701017',\n",
       " 64: 'PSYPOOLS1701005',\n",
       " 44: '1010 f14 01 005',\n",
       " 95: 'psy pool s17 01 001',\n",
       " 89: 'PSYPOOLS1701037',\n",
       " 40: '1010 f14 01 001',\n",
       " 41: '1010 f14 01 002',\n",
       " 85: 'PSYPOOLS1701030',\n",
       " 73: 'PSYPOOLS1701016',\n",
       " 80: 'PSYPOOLS1701025',\n",
       " 56: '1010 f14 01 017',\n",
       " 43: '1010 f14 01 004',\n",
       " 57: '1010 f14 01 018',\n",
       " 53: '1010 f14 01 014',\n",
       " 42: '1010 f14 01 003',\n",
       " 46: '1010 f14 01 007',\n",
       " 78: 'PSYPOOLS1701023'}"
      ]
     },
     "execution_count": 26,
     "metadata": {},
     "output_type": "execute_result"
    }
   ],
   "source": [
    "target_label_dict = {target: label for target, label in zip(targets, labels)}\n",
    "target_label_dict\n"
   ]
  },
  {
   "cell_type": "code",
   "execution_count": 19,
   "id": "ce1bc7f5-caac-4e93-aef3-157d3c14dab5",
   "metadata": {},
   "outputs": [],
   "source": [
    "device = torch.device(\"cuda\" if torch.cuda.is_available() else \"cpu\")"
   ]
  },
  {
   "cell_type": "code",
   "execution_count": 17,
   "id": "df86f9d9-3008-4a4d-8e52-d614ec1e50f1",
   "metadata": {},
   "outputs": [],
   "source": [
    "def custom_collate(subsample_size):\n",
    "    def collate_fn(batch):\n",
    "        subsamples = []\n",
    "        for data, target in batch:\n",
    "            num_samples = data.shape[0]\n",
    "            current_subsample_size = min(subsample_size, num_samples)\n",
    "            indices = random.sample(range(num_samples), subsample_size)\n",
    "            subsample = data[indices]\n",
    "            subsamples.append((subsample, target))\n",
    "\n",
    "        data, targets = zip(*subsamples)\n",
    "        data = torch.stack(data, dim=0)\n",
    "        targets = torch.stack(targets, dim=0)\n",
    "\n",
    "        return data, targets\n",
    "    \n",
    "    return collate_fn"
   ]
  },
  {
   "cell_type": "code",
   "execution_count": 18,
   "id": "369b828d-c13a-4cb7-801e-b1287ccc601d",
   "metadata": {},
   "outputs": [],
   "source": [
    "batch_size = 4\n",
    "train_subsample_size = 16000\n",
    "val_subsample_size = 2048\n",
    "dataset2 = TensorDataset(torch.from_numpy(dataset), torch.from_numpy(targets))\n",
    "\n",
    "dataloader2 = DataLoader(dataset2, batch_size=batch_size, shuffle=False, collate_fn=custom_collate(subsample_size=train_subsample_size))\n"
   ]
  },
  {
   "cell_type": "code",
   "execution_count": 15,
   "id": "238e3550-b49c-4ac5-88b2-50f8f6c18a7a",
   "metadata": {},
   "outputs": [],
   "source": [
    "pretrained_path = './ContrastiveLearning_Model/saved_models/files99/masked_encoder_64_16_128_3_0.05.pth'  # Path to the pretrained model file\n",
    "pretrained_model = torch.load(pretrained_path)\n"
   ]
  },
  {
   "cell_type": "code",
   "execution_count": 16,
   "id": "d9d5f396-749e-41e6-88a2-8e1101eafe3b",
   "metadata": {},
   "outputs": [
    {
     "data": {
      "text/plain": [
       "64"
      ]
     },
     "execution_count": 16,
     "metadata": {},
     "output_type": "execute_result"
    }
   ],
   "source": [
    "pretrained_model.embed_dim"
   ]
  },
  {
   "cell_type": "code",
   "execution_count": 17,
   "id": "b657a4aa-5381-44ef-80d9-053d80a16fe6",
   "metadata": {},
   "outputs": [],
   "source": [
    "contrastive_embeddings = []\n",
    "\n",
    "pretrained_model.eval()\n",
    "for i,(batch_data, batch_targets) in enumerate(dataloader2):\n",
    "    batch_data = batch_data.to(device)\n",
    "\n",
    "    # Forward pass - Training\n",
    "    with torch.no_grad():\n",
    "        embeddings = pretrained_model(batch_data) \n",
    "    \n",
    "    # Append the embeddings to the list\n",
    "    contrastive_embeddings.append(embeddings)\n",
    "    batch_data = batch_data.cpu()\n",
    "    \n",
    "\n",
    "# Concatenate the embeddings along the batch dimension to get all embeddings\n",
    "contrastive_embeddings = torch.cat(contrastive_embeddings, dim=0)\n",
    "contrastive_embeddings_cpu = contrastive_embeddings.cpu()\n",
    "contrastive_embeddings_numpy = contrastive_embeddings_cpu.numpy()\n"
   ]
  },
  {
   "cell_type": "code",
   "execution_count": 18,
   "id": "2d6a68e0-bb32-40d4-8ebb-a5c74e6a01eb",
   "metadata": {},
   "outputs": [
    {
     "data": {
      "text/plain": [
       "(50, 96)"
      ]
     },
     "execution_count": 18,
     "metadata": {},
     "output_type": "execute_result"
    }
   ],
   "source": [
    "contrastive_embeddings_numpy.shape"
   ]
  },
  {
   "cell_type": "code",
   "execution_count": 19,
   "id": "9f188e19-2a93-46e2-9917-ab66464bad73",
   "metadata": {},
   "outputs": [],
   "source": [
    "meta_labels = list(target_label_dict.values())"
   ]
  },
  {
   "cell_type": "code",
   "execution_count": 22,
   "id": "e54384e5-396e-49ae-bf49-591f0a11ae09",
   "metadata": {},
   "outputs": [],
   "source": [
    "nan_flag = metaData_df.isna()\n",
    "if nan_flag.values.any():\n",
    "    # metaData_df = metaData_df.dropna()\n",
    "    t = fillMVN.fill_missing_value_numerical_chamfer(contrastive_embeddings_numpy, meta_labels, metaData_df)\n",
    "    print(t)"
   ]
  },
  {
   "cell_type": "code",
   "execution_count": 23,
   "id": "9af5ad68-6d83-404e-aa76-0e5989ed6572",
   "metadata": {},
   "outputs": [],
   "source": [
    "with pd.ExcelWriter(excel_file, engine='openpyxl', mode='a') as writer:\n",
    "    # Write the DataFrame to a new sheet (e.g., 'filled_chamfer')\n",
    "    t.to_excel(writer, sheet_name='weight_contrastive_embedding', index=False)"
   ]
  },
  {
   "cell_type": "markdown",
   "id": "ac9c96e6-eb17-439f-a3f4-b6de8579aab3",
   "metadata": {},
   "source": [
    "# Processing using euc"
   ]
  },
  {
   "cell_type": "code",
   "execution_count": 4,
   "id": "890c4295-a9ba-4578-8512-683241a990ea",
   "metadata": {},
   "outputs": [
    {
     "data": {
      "text/html": [
       "<div>\n",
       "<style scoped>\n",
       "    .dataframe tbody tr th:only-of-type {\n",
       "        vertical-align: middle;\n",
       "    }\n",
       "\n",
       "    .dataframe tbody tr th {\n",
       "        vertical-align: top;\n",
       "    }\n",
       "\n",
       "    .dataframe thead th {\n",
       "        text-align: right;\n",
       "    }\n",
       "</style>\n",
       "<table border=\"1\" class=\"dataframe\">\n",
       "  <thead>\n",
       "    <tr style=\"text-align: right;\">\n",
       "      <th></th>\n",
       "      <th>File</th>\n",
       "      <th>Age</th>\n",
       "    </tr>\n",
       "  </thead>\n",
       "  <tbody>\n",
       "    <tr>\n",
       "      <th>0</th>\n",
       "      <td>1010 f14 01 001.obj</td>\n",
       "      <td>20.0</td>\n",
       "    </tr>\n",
       "    <tr>\n",
       "      <th>1</th>\n",
       "      <td>1010 f14 01 002.obj</td>\n",
       "      <td>20.0</td>\n",
       "    </tr>\n",
       "    <tr>\n",
       "      <th>2</th>\n",
       "      <td>1010 f14 01 003.obj</td>\n",
       "      <td>23.0</td>\n",
       "    </tr>\n",
       "    <tr>\n",
       "      <th>3</th>\n",
       "      <td>1010 f14 01 004.obj</td>\n",
       "      <td>21.0</td>\n",
       "    </tr>\n",
       "    <tr>\n",
       "      <th>4</th>\n",
       "      <td>1010 f14 01 005.obj</td>\n",
       "      <td>20.0</td>\n",
       "    </tr>\n",
       "  </tbody>\n",
       "</table>\n",
       "</div>"
      ],
      "text/plain": [
       "                  File   Age\n",
       "0  1010 f14 01 001.obj  20.0\n",
       "1  1010 f14 01 002.obj  20.0\n",
       "2  1010 f14 01 003.obj  23.0\n",
       "3  1010 f14 01 004.obj  21.0\n",
       "4  1010 f14 01 005.obj  20.0"
      ]
     },
     "execution_count": 4,
     "metadata": {},
     "output_type": "execute_result"
    }
   ],
   "source": [
    "fields = ['File', 'Age'] \n",
    "metaData_df = pd.read_excel(excel_file, sheet_name='Sheet1', usecols=fields)\n",
    "metaData_df.head()\n",
    "# labels, targets2"
   ]
  },
  {
   "cell_type": "code",
   "execution_count": 5,
   "id": "1487ed2a-f859-4469-afb7-a639696f8447",
   "metadata": {},
   "outputs": [
    {
     "data": {
      "text/plain": [
       "(50, 2)"
      ]
     },
     "execution_count": 5,
     "metadata": {},
     "output_type": "execute_result"
    }
   ],
   "source": [
    "file_lst = metaData_df['File'].to_numpy()\n",
    "file_lst_without_obj = np.array([s.replace(\".obj\", \"\") for s in file_lst])\n",
    "file_lst_without_obj = file_lst_without_obj.tolist()\n",
    "metaData_df['File'] = file_lst_without_obj\n",
    "metaData_df.shape"
   ]
  },
  {
   "cell_type": "code",
   "execution_count": 6,
   "id": "509464f7-a650-405e-a9a6-a74ce2e251a2",
   "metadata": {},
   "outputs": [
    {
     "name": "stdout",
     "output_type": "stream",
     "text": [
      "/home/dsk2v/PointCloud/BodyScan/FourthDraftWithPartialMetaData/DataLoader/../../../Data/3dbsf_txt/\n"
     ]
    }
   ],
   "source": [
    "dataset0, targets0, labels0 = DL.load_dataset(folder_path, num_lines=16000)"
   ]
  },
  {
   "cell_type": "code",
   "execution_count": 7,
   "id": "58f670ec-bd7e-43c2-85b9-53c052bc451e",
   "metadata": {},
   "outputs": [
    {
     "name": "stdout",
     "output_type": "stream",
     "text": [
      "[1, 2, 4, 5, 9, 10, 14, 16, 17, 18, 19, 22, 23, 27, 29, 30, 33, 35, 36, 38, 40, 41, 44, 45, 46, 48, 50, 52, 56, 57, 58, 60, 62, 65, 66, 67, 69, 71, 73, 74, 75, 78, 80, 83, 84, 88, 90, 91, 92, 93]\n"
     ]
    }
   ],
   "source": [
    "file_indices = [i for i, item1 in enumerate(labels0) for item2 in file_lst_without_obj if item1 == item2]\n",
    "print((file_indices))"
   ]
  },
  {
   "cell_type": "code",
   "execution_count": 8,
   "id": "2d5ce974-2228-4e95-9e8d-7439e8063e6c",
   "metadata": {},
   "outputs": [],
   "source": [
    "dataset = dataset0[file_indices]"
   ]
  },
  {
   "cell_type": "code",
   "execution_count": 9,
   "id": "60b637ee-fe5e-41cd-9e91-161f85b0b2bc",
   "metadata": {},
   "outputs": [],
   "source": [
    "labels = np.array(labels0)[file_indices]"
   ]
  },
  {
   "cell_type": "code",
   "execution_count": 10,
   "id": "a8323ec2-c8a3-4682-98c8-a825f3141775",
   "metadata": {},
   "outputs": [],
   "source": [
    "targets = np.array(targets0)[file_indices]"
   ]
  },
  {
   "cell_type": "code",
   "execution_count": 11,
   "id": "a2b1e362-ca31-4e33-ae46-8f7541cf59d5",
   "metadata": {},
   "outputs": [],
   "source": [
    "target_label_dict = {target: label for target, label in zip(targets, labels)}\n",
    "# target_label_dict\n"
   ]
  },
  {
   "cell_type": "code",
   "execution_count": null,
   "id": "08c1fb26-6d00-4f90-b80b-367bb1042748",
   "metadata": {},
   "outputs": [
    {
     "name": "stdout",
     "output_type": "stream",
     "text": [
      "False\n",
      "False\n",
      "False\n",
      "False\n",
      "False\n",
      "False\n",
      "False\n",
      "False\n",
      "False\n",
      "False\n",
      "False\n",
      "False\n",
      "False\n",
      "False\n",
      "False\n",
      "False\n",
      "False\n",
      "False\n",
      "False\n",
      "False\n",
      "False\n",
      "False\n",
      "False\n",
      "False\n",
      "False\n",
      "False\n",
      "False\n",
      "False\n",
      "False\n",
      "False\n",
      "False\n",
      "False\n",
      "True\n",
      "tensor(0.0114, dtype=torch.float64)\n",
      "tensor(0.0070, dtype=torch.float64)\n",
      "False\n",
      "False\n",
      "False\n",
      "False\n",
      "False\n",
      "False\n",
      "False\n",
      "False\n",
      "False\n",
      "False\n",
      "False\n",
      "True\n",
      "tensor(0.0092, dtype=torch.float64)\n",
      "tensor(0.0088, dtype=torch.float64)\n",
      "tensor(0.0080, dtype=torch.float64)\n",
      "tensor(0.0075, dtype=torch.float64)\n",
      "False\n",
      "False\n",
      "False\n",
      "False\n",
      "False\n",
      "                   File   Age\n",
      "0       1010 f14 01 001  20.0\n",
      "1       1010 f14 01 002  20.0\n",
      "2       1010 f14 01 003  23.0\n",
      "3       1010 f14 01 004  21.0\n",
      "4       1010 f14 01 005  20.0\n",
      "5       1010 f14 01 006  25.0\n",
      "6       1010 f14 01 007  23.0\n",
      "7       1010 f14 01 008  21.0\n",
      "8       1010 f14 01 009  18.0\n",
      "9       1010 f14 01 010  22.0\n",
      "10      1010 f14 01 011  20.0\n",
      "11      1010 f14 01 012  18.0\n",
      "12      1010 f14 01 013  28.0\n",
      "13      1010 f14 01 014  18.0\n",
      "14      1010 f14 01 015  18.0\n",
      "15      1010 f14 01 016  19.0\n",
      "16      1010 f14 01 017  20.0\n",
      "17      1010 f14 01 018  19.0\n",
      "18      1010 f14 01 019  19.0\n",
      "19      1010 f14 01 020  21.0\n",
      "20      PSYPOOL51701003  19.0\n",
      "21  psy pool s17 01 001  19.0\n",
      "22      PSYPOOLS1701002  19.0\n",
      "23      PSYPOOLS1701004  19.0\n",
      "24      PSYPOOLS1701005  18.0\n",
      "25      PSYPOOLS1701006  19.0\n",
      "26      PSYPOOLS1701008  19.0\n",
      "27      PSYPOOLS1701009  27.0\n",
      "28      PSYPOOLS1701011  18.0\n",
      "29      PSYPOOLS1701012  23.0\n",
      "30      PSYPOOLS1701013  28.0\n",
      "31      PSYPOOLS1701014  19.0\n",
      "32      PSYPOOLS1701015  19.0\n",
      "33      PSYPOOLS1701016  36.0\n",
      "34      PSYPOOLS1701017  27.0\n",
      "35      PSYPOOLS1701018  20.0\n",
      "36      PSYPOOLS1701021  19.0\n",
      "37      PSYPOOLS1701022  20.0\n",
      "38      PSYPOOLS1701023  20.0\n",
      "39      PSYPOOLS1701024  21.0\n",
      "40      PSYPOOLS1701025  20.0\n",
      "41      PSYPOOLS1701026  22.0\n",
      "42      PSYPOOLS1701027  19.0\n",
      "43      PSYPOOLS1701028  19.0\n",
      "44      PSYPOOLS1701029  20.0\n",
      "45      PSYPOOLS1701030  19.0\n",
      "46      PSYPOOLS1701031  18.0\n",
      "47      PSYPOOLS1701035  19.0\n",
      "48      PSYPOOLS1701036  19.0\n",
      "49      PSYPOOLS1701037  19.0\n"
     ]
    }
   ],
   "source": [
    "nan_flag = metaData_df.isna()\n",
    "if nan_flag.values.any():\n",
    "    # metaData_df = metaData_df.dropna()\n",
    "    t = fillMVN.fill_missing_value_numerical_chamfer_distance(dataset, labels, metaData_df)\n",
    "    print(t)"
   ]
  },
  {
   "cell_type": "code",
   "execution_count": 15,
   "id": "7f0c31c5-244b-4804-8750-f511476b5453",
   "metadata": {},
   "outputs": [],
   "source": [
    "with pd.ExcelWriter(excel_file, engine='openpyxl', mode='a') as writer:\n",
    "    # Write the DataFrame to a new sheet (e.g., 'filled_chamfer')\n",
    "    t.to_excel(writer, sheet_name='filled_chamfer_dist_age1', index=False)"
   ]
  },
  {
   "cell_type": "code",
   "execution_count": 6,
   "id": "2610bff7-6ce5-4bec-a3c8-fa3606070903",
   "metadata": {},
   "outputs": [
    {
     "data": {
      "image/png": "[encoded data removed]",
      "text/plain": [
       "<Figure size 640x480 with 1 Axes>"
      ]
     },
     "metadata": {},
     "output_type": "display_data"
    }
   ],
   "source": [
    "import matplotlib.pyplot as plt\n",
    "# Create a histogram\n",
    "plt.hist(metaData_df.Age, bins=10, color='blue', edgecolor='black')\n",
    "\n",
    "# Add labels and title\n",
    "plt.xlabel('Values')\n",
    "plt.ylabel('Frequency')\n",
    "plt.title('Histogram of Data')\n",
    "\n",
    "# Show the plot\n",
    "plt.show()"
   ]
  },
  {
   "cell_type": "code",
   "execution_count": 7,
   "id": "3231853b-030e-4c45-93aa-20587f8fb303",
   "metadata": {},
   "outputs": [],
   "source": [
    "log_data = np.log(metaData_df.Age)"
   ]
  },
  {
   "cell_type": "code",
   "execution_count": 8,
   "id": "5815fc0f-6f9a-4281-8940-c54c6feaf57f",
   "metadata": {},
   "outputs": [
    {
     "data": {
      "image/png": "[encoded data removed]",
      "text/plain": [
       "<Figure size 640x480 with 1 Axes>"
      ]
     },
     "metadata": {},
     "output_type": "display_data"
    }
   ],
   "source": [
    "import matplotlib.pyplot as plt\n",
    "# Create a histogram\n",
    "plt.hist(log_data, bins=10, color='blue', edgecolor='black')\n",
    "\n",
    "# Add labels and title\n",
    "plt.xlabel('Values')\n",
    "plt.ylabel('Frequency')\n",
    "plt.title('Histogram of Data')\n",
    "\n",
    "# Show the plot\n",
    "plt.show()"
   ]
  },
  {
   "cell_type": "code",
   "execution_count": 12,
   "id": "6103a278-777c-41de-b2b6-2b3f9c8456fa",
   "metadata": {},
   "outputs": [],
   "source": [
    "from sklearn.preprocessing import MinMaxScaler\n",
    "\n",
    "# Create a Min-Max scaler\n",
    "scaler = MinMaxScaler()\n",
    "\n",
    "# Fit the scaler to your data and transform it\n",
    "scaled_data = scaler.fit_transform(np.array(metaData_df.Age).reshape(-1, 1))\n",
    "\n",
    "# If you want to scale to a custom range, you can set the feature_range parameter\n",
    "# For example, to scale to the range [0, 100]:\n",
    "scaler = MinMaxScaler(feature_range=(0, 100))\n",
    "scaled_data_custom_range = scaler.fit_transform(np.array(metaData_df.Age).reshape(-1, 1))\n"
   ]
  },
  {
   "cell_type": "code",
   "execution_count": 13,
   "id": "65e5044e-93c1-4045-9560-6875991aa45a",
   "metadata": {},
   "outputs": [
    {
     "data": {
      "text/plain": [
       "array([[0.11111111],\n",
       "       [0.11111111],\n",
       "       [0.27777778],\n",
       "       [0.16666667],\n",
       "       [0.11111111],\n",
       "       [0.38888889],\n",
       "       [0.27777778],\n",
       "       [0.16666667],\n",
       "       [0.        ],\n",
       "       [0.22222222],\n",
       "       [0.11111111],\n",
       "       [0.        ],\n",
       "       [0.55555556],\n",
       "       [0.        ],\n",
       "       [0.        ],\n",
       "       [0.05555556],\n",
       "       [0.11111111],\n",
       "       [0.05555556],\n",
       "       [0.05555556],\n",
       "       [0.16666667],\n",
       "       [0.05555556],\n",
       "       [0.05555556],\n",
       "       [0.05555556],\n",
       "       [0.05555556],\n",
       "       [0.        ],\n",
       "       [0.05555556],\n",
       "       [0.05555556],\n",
       "       [0.5       ],\n",
       "       [0.        ],\n",
       "       [0.27777778],\n",
       "       [0.55555556],\n",
       "       [0.05555556],\n",
       "       [       nan],\n",
       "       [1.        ],\n",
       "       [0.5       ],\n",
       "       [0.11111111],\n",
       "       [0.05555556],\n",
       "       [0.11111111],\n",
       "       [0.11111111],\n",
       "       [0.16666667],\n",
       "       [0.11111111],\n",
       "       [0.22222222],\n",
       "       [0.05555556],\n",
       "       [0.05555556],\n",
       "       [       nan],\n",
       "       [0.05555556],\n",
       "       [0.        ],\n",
       "       [0.05555556],\n",
       "       [0.05555556],\n",
       "       [0.05555556]])"
      ]
     },
     "execution_count": 13,
     "metadata": {},
     "output_type": "execute_result"
    }
   ],
   "source": [
    "scaled_data"
   ]
  },
  {
   "cell_type": "code",
   "execution_count": 14,
   "id": "2f6b1618-5e7b-4e2c-81a4-93862dd7b3aa",
   "metadata": {},
   "outputs": [
    {
     "data": {
      "text/plain": [
       "array([[ 11.11111111],\n",
       "       [ 11.11111111],\n",
       "       [ 27.77777778],\n",
       "       [ 16.66666667],\n",
       "       [ 11.11111111],\n",
       "       [ 38.88888889],\n",
       "       [ 27.77777778],\n",
       "       [ 16.66666667],\n",
       "       [  0.        ],\n",
       "       [ 22.22222222],\n",
       "       [ 11.11111111],\n",
       "       [  0.        ],\n",
       "       [ 55.55555556],\n",
       "       [  0.        ],\n",
       "       [  0.        ],\n",
       "       [  5.55555556],\n",
       "       [ 11.11111111],\n",
       "       [  5.55555556],\n",
       "       [  5.55555556],\n",
       "       [ 16.66666667],\n",
       "       [  5.55555556],\n",
       "       [  5.55555556],\n",
       "       [  5.55555556],\n",
       "       [  5.55555556],\n",
       "       [  0.        ],\n",
       "       [  5.55555556],\n",
       "       [  5.55555556],\n",
       "       [ 50.        ],\n",
       "       [  0.        ],\n",
       "       [ 27.77777778],\n",
       "       [ 55.55555556],\n",
       "       [  5.55555556],\n",
       "       [         nan],\n",
       "       [100.        ],\n",
       "       [ 50.        ],\n",
       "       [ 11.11111111],\n",
       "       [  5.55555556],\n",
       "       [ 11.11111111],\n",
       "       [ 11.11111111],\n",
       "       [ 16.66666667],\n",
       "       [ 11.11111111],\n",
       "       [ 22.22222222],\n",
       "       [  5.55555556],\n",
       "       [  5.55555556],\n",
       "       [         nan],\n",
       "       [  5.55555556],\n",
       "       [  0.        ],\n",
       "       [  5.55555556],\n",
       "       [  5.55555556],\n",
       "       [  5.55555556]])"
      ]
     },
     "execution_count": 14,
     "metadata": {},
     "output_type": "execute_result"
    }
   ],
   "source": [
    "scaled_data_custom_range"
   ]
  },
  {
   "cell_type": "code",
   "execution_count": null,
   "id": "bddda43b-b15e-4654-b33b-3b1f8ea514f9",
   "metadata": {},
   "outputs": [],
   "source": []
  }
 ],
 "metadata": {
  "kernelspec": {
   "display_name": "Python 3 (ipykernel)",
   "language": "python",
   "name": "python3"
  },
  "language_info": {
   "codemirror_mode": {
    "name": "ipython",
    "version": 3
   },
   "file_extension": ".py",
   "mimetype": "text/x-python",
   "name": "python",
   "nbconvert_exporter": "python",
   "pygments_lexer": "ipython3",
   "version": "3.7.16"
  }
 },
 "nbformat": 4,
 "nbformat_minor": 5
}
