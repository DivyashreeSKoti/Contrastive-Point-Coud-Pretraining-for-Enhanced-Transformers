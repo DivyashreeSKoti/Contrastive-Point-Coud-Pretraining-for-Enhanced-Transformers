{
 "cells": [
  {
   "cell_type": "markdown",
   "id": "91b75eee-7b5f-43c1-94ad-5c657285a125",
   "metadata": {},
   "source": [
    "# Strong generalization: Gender classification results of 3D body scan"
   ]
  },
  {
   "cell_type": "code",
   "execution_count": 1,
   "id": "c7427d10-8ad9-49d3-bd93-c55933583b0a",
   "metadata": {},
   "outputs": [],
   "source": [
    "import numpy as np"
   ]
  },
  {
   "cell_type": "markdown",
   "id": "f0f72b63-2b4e-41bc-aec6-f5ab5305f584",
   "metadata": {},
   "source": [
    "# Balanced"
   ]
  },
  {
   "cell_type": "code",
   "execution_count": 2,
   "id": "496e53c8-ec6b-4296-90c8-c9c6c4fa92e7",
   "metadata": {},
   "outputs": [],
   "source": [
    "StrongGen_Gender_naive_accuracy = np.loadtxt(\"./strong_generalization/gender_sg/ST/Naive/Accuracy.txt\")\n",
    "StrongGen_Gender_contrastive_accuracy = np.loadtxt(\"./strong_generalization/gender_sg/ST/Contrastive/Accuracy.txt\")\n"
   ]
  },
  {
   "cell_type": "code",
   "execution_count": 3,
   "id": "1785b42d-5915-4118-92f1-4ada86ea525a",
   "metadata": {},
   "outputs": [
    {
     "data": {
      "text/plain": [
       "array([0.4 , 0.42, 0.5 , 0.44, 0.52, 0.4 , 0.36, 0.46, 0.48, 0.42])"
      ]
     },
     "execution_count": 3,
     "metadata": {},
     "output_type": "execute_result"
    }
   ],
   "source": [
    "StrongGen_Gender_naive_accuracy\n"
   ]
  },
  {
   "cell_type": "code",
   "execution_count": 4,
   "id": "35e1aba9-f669-442a-9dad-6e2572091e82",
   "metadata": {},
   "outputs": [
    {
     "data": {
      "text/plain": [
       "array([0.52, 0.6 , 0.58, 0.52, 0.52, 0.52, 0.56, 0.5 , 0.54, 0.6 ])"
      ]
     },
     "execution_count": 4,
     "metadata": {},
     "output_type": "execute_result"
    }
   ],
   "source": [
    "StrongGen_Gender_contrastive_accuracy"
   ]
  },
  {
   "cell_type": "markdown",
   "id": "29d5aa99-018d-4ffa-8cb8-6d65818a8fa5",
   "metadata": {},
   "source": [
    "## Standard Set Transformer"
   ]
  },
  {
   "cell_type": "code",
   "execution_count": 5,
   "id": "53cdf012-dd56-44b1-8dd4-5918daef0594",
   "metadata": {},
   "outputs": [
    {
     "data": {
      "text/plain": [
       "0.44000000000000006"
      ]
     },
     "execution_count": 5,
     "metadata": {},
     "output_type": "execute_result"
    }
   ],
   "source": [
    "Mean_StrongGen_Gender_naive_accuracy = np.mean(StrongGen_Gender_naive_accuracy)\n",
    "Mean_StrongGen_Gender_naive_accuracy\n"
   ]
  },
  {
   "cell_type": "markdown",
   "id": "c861cd70-c2a4-4870-9f31-1c6ab76ca9a1",
   "metadata": {},
   "source": [
    "## Contrastive"
   ]
  },
  {
   "cell_type": "code",
   "execution_count": 6,
   "id": "0c2bc0cb-ae3f-4386-b0ea-d06dc9e478ab",
   "metadata": {},
   "outputs": [
    {
     "data": {
      "text/plain": [
       "0.546"
      ]
     },
     "execution_count": 6,
     "metadata": {},
     "output_type": "execute_result"
    }
   ],
   "source": [
    "Mean_StrongGen_Gender_contrastive_accuracy = np.mean(StrongGen_Gender_contrastive_accuracy)\n",
    "Mean_StrongGen_Gender_contrastive_accuracy\n"
   ]
  },
  {
   "cell_type": "markdown",
   "id": "b0e88fe3-cc72-46c6-8f3a-921c3240107c",
   "metadata": {},
   "source": [
    "## PCT\n"
   ]
  },
  {
   "cell_type": "code",
   "execution_count": 2,
   "id": "5c3e9420-953e-405a-abf5-00cfc1ead165",
   "metadata": {},
   "outputs": [],
   "source": [
    "StrongGen_Gender_naive_accuracy_pct = np.loadtxt(\"./strong_generalization/gender_sg/PCT/Naive/Accuracy.txt\")\n",
    "StrongGen_Gender_contrastive_accuracy_pct = np.loadtxt(\"./strong_generalization/gender_sg/PCT/Contrastive/Accuracy.txt\")\n"
   ]
  },
  {
   "cell_type": "code",
   "execution_count": 3,
   "id": "471373f0-737a-4a6a-b584-0195b1fd4d07",
   "metadata": {},
   "outputs": [
    {
     "data": {
      "text/plain": [
       "(10,)"
      ]
     },
     "execution_count": 3,
     "metadata": {},
     "output_type": "execute_result"
    }
   ],
   "source": [
    "StrongGen_Gender_naive_accuracy_pct.shape"
   ]
  },
  {
   "cell_type": "markdown",
   "id": "b2e6eafa-8e6d-4d2c-86dd-7b2285ee45d6",
   "metadata": {},
   "source": [
    "### Naive"
   ]
  },
  {
   "cell_type": "code",
   "execution_count": 4,
   "id": "e33f6fb4-4335-4ffb-a563-f30342c2d9b9",
   "metadata": {},
   "outputs": [
    {
     "data": {
      "text/plain": [
       "0.584"
      ]
     },
     "execution_count": 4,
     "metadata": {},
     "output_type": "execute_result"
    }
   ],
   "source": [
    "Mean_StrongGen_Gender_naive_accuracy_pct = np.mean(StrongGen_Gender_naive_accuracy_pct)\n",
    "Mean_StrongGen_Gender_naive_accuracy_pct\n"
   ]
  },
  {
   "cell_type": "markdown",
   "id": "9f5d5313-5dca-4065-93ed-b84759cc98aa",
   "metadata": {},
   "source": [
    "### Contrastive"
   ]
  },
  {
   "cell_type": "code",
   "execution_count": 5,
   "id": "d6b4b0aa-b98e-4e60-af82-890b380635b3",
   "metadata": {},
   "outputs": [
    {
     "data": {
      "text/plain": [
       "0.7499999999999999"
      ]
     },
     "execution_count": 5,
     "metadata": {},
     "output_type": "execute_result"
    }
   ],
   "source": [
    "Mean_StrongGen_Gender_contrastive_accuracy_pct = np.mean(StrongGen_Gender_contrastive_accuracy_pct)\n",
    "Mean_StrongGen_Gender_contrastive_accuracy_pct\n"
   ]
  },
  {
   "cell_type": "code",
   "execution_count": null,
   "id": "c8704401-5588-4891-80f2-9cd9f25a1f8f",
   "metadata": {},
   "outputs": [],
   "source": []
  }
 ],
 "metadata": {
  "kernelspec": {
   "display_name": "Python 3 (ipykernel)",
   "language": "python",
   "name": "python3"
  },
  "language_info": {
   "codemirror_mode": {
    "name": "ipython",
    "version": 3
   },
   "file_extension": ".py",
   "mimetype": "text/x-python",
   "name": "python",
   "nbconvert_exporter": "python",
   "pygments_lexer": "ipython3",
   "version": "3.7.16"
  }
 },
 "nbformat": 4,
 "nbformat_minor": 5
}
