{
 "cells": [
  {
   "cell_type": "code",
   "execution_count": 1,
   "id": "c7427d10-8ad9-49d3-bd93-c55933583b0a",
   "metadata": {},
   "outputs": [],
   "source": [
    "import numpy as np"
   ]
  },
  {
   "cell_type": "markdown",
   "id": "f0f72b63-2b4e-41bc-aec6-f5ab5305f584",
   "metadata": {},
   "source": [
    "# Height"
   ]
  },
  {
   "cell_type": "code",
   "execution_count": 3,
   "id": "496e53c8-ec6b-4296-90c8-c9c6c4fa92e7",
   "metadata": {},
   "outputs": [],
   "source": [
    "StrongGen_Height_naive_accuracy = np.loadtxt(\"./strong_generalization/regression/st/Height/Naive/Loss.txt\")\n",
    "StrongGen_Height_contrastive_accuracy = np.loadtxt(\"./strong_generalization/regression/st/Height/Contrastive/Loss.txt\")\n"
   ]
  },
  {
   "cell_type": "markdown",
   "id": "29d5aa99-018d-4ffa-8cb8-6d65818a8fa5",
   "metadata": {},
   "source": [
    "## Standard Set Transformer"
   ]
  },
  {
   "cell_type": "code",
   "execution_count": 4,
   "id": "53cdf012-dd56-44b1-8dd4-5918daef0594",
   "metadata": {},
   "outputs": [
    {
     "data": {
      "text/plain": [
       "0.03345026437146367"
      ]
     },
     "execution_count": 4,
     "metadata": {},
     "output_type": "execute_result"
    }
   ],
   "source": [
    "Mean_StrongGen_Height_naive_accuracy = np.mean(StrongGen_Height_naive_accuracy)\n",
    "Mean_StrongGen_Height_naive_accuracy\n"
   ]
  },
  {
   "cell_type": "markdown",
   "id": "c861cd70-c2a4-4870-9f31-1c6ab76ca9a1",
   "metadata": {},
   "source": [
    "## Contrastive"
   ]
  },
  {
   "cell_type": "code",
   "execution_count": 5,
   "id": "0c2bc0cb-ae3f-4386-b0ea-d06dc9e478ab",
   "metadata": {},
   "outputs": [
    {
     "data": {
      "text/plain": [
       "0.06614161202846056"
      ]
     },
     "execution_count": 5,
     "metadata": {},
     "output_type": "execute_result"
    }
   ],
   "source": [
    "Mean_StrongGen_Height_contrastive_accuracy = np.mean(StrongGen_Height_contrastive_accuracy)\n",
    "Mean_StrongGen_Height_contrastive_accuracy\n"
   ]
  },
  {
   "cell_type": "markdown",
   "id": "99f52445-efb1-4e02-9d2e-c8e6a7a72fb1",
   "metadata": {},
   "source": [
    "### Weight"
   ]
  },
  {
   "cell_type": "code",
   "execution_count": 6,
   "id": "4e790131-4b27-4f50-904f-25556ec4f026",
   "metadata": {},
   "outputs": [],
   "source": [
    "StrongGen_Weight_naive_accuracy = np.loadtxt(\"./strong_generalization/regression/st/Weight/Naive/Loss.txt\")\n",
    "StrongGen_Weight_contrastive_accuracy = np.loadtxt(\"./strong_generalization/regression/st/Weight/Contrastive/Loss.txt\")\n"
   ]
  },
  {
   "cell_type": "markdown",
   "id": "1936804b-346c-4862-baff-004396497d3c",
   "metadata": {},
   "source": [
    "## Standard Set Transformer"
   ]
  },
  {
   "cell_type": "code",
   "execution_count": 7,
   "id": "d1d327bc-e3c4-4c46-8a32-1d0335be84e3",
   "metadata": {},
   "outputs": [
    {
     "data": {
      "text/plain": [
       "0.043279935552646635"
      ]
     },
     "execution_count": 7,
     "metadata": {},
     "output_type": "execute_result"
    }
   ],
   "source": [
    "Mean_StrongGen_Weight_naive_accuracy = np.mean(StrongGen_Weight_naive_accuracy)\n",
    "Mean_StrongGen_Weight_naive_accuracy\n"
   ]
  },
  {
   "cell_type": "markdown",
   "id": "556f7289-3b70-484c-ba3c-a011375d05b4",
   "metadata": {},
   "source": [
    "## Contrastive"
   ]
  },
  {
   "cell_type": "code",
   "execution_count": 8,
   "id": "cbfd8828-9173-45c0-ab7e-15786f4331d5",
   "metadata": {},
   "outputs": [
    {
     "data": {
      "text/plain": [
       "0.053160637274296006"
      ]
     },
     "execution_count": 8,
     "metadata": {},
     "output_type": "execute_result"
    }
   ],
   "source": [
    "Mean_StrongGen_Weight_contrastive_accuracy = np.mean(StrongGen_Weight_contrastive_accuracy)\n",
    "Mean_StrongGen_Weight_contrastive_accuracy\n"
   ]
  },
  {
   "cell_type": "markdown",
   "id": "f483d6b3-40c5-4d46-9ec7-69dfda795903",
   "metadata": {},
   "source": [
    "# Age"
   ]
  },
  {
   "cell_type": "code",
   "execution_count": 9,
   "id": "641044c0-49d3-4de1-9ba7-527c909a26aa",
   "metadata": {},
   "outputs": [],
   "source": [
    "StrongGen_Age_naive_accuracy = np.loadtxt(\"./strong_generalization/regression/st/Age/Naive/Loss.txt\")\n",
    "StrongGen_Age_contrastive_accuracy = np.loadtxt(\"./strong_generalization/regression/st/Age/Contrastive/Loss.txt\")\n"
   ]
  },
  {
   "cell_type": "markdown",
   "id": "6d550437-7858-4c8a-93ea-32f0319a0c67",
   "metadata": {},
   "source": [
    "## Standard Set Transformer"
   ]
  },
  {
   "cell_type": "code",
   "execution_count": 11,
   "id": "cbb35fac-cde7-422d-9c8f-c0d1904392e0",
   "metadata": {},
   "outputs": [
    {
     "data": {
      "text/plain": [
       "0.06782760749969473"
      ]
     },
     "execution_count": 11,
     "metadata": {},
     "output_type": "execute_result"
    }
   ],
   "source": [
    "Mean_StrongGen_Age_naive_accuracy = np.mean(StrongGen_Age_naive_accuracy)\n",
    "Mean_StrongGen_Age_naive_accuracy\n"
   ]
  },
  {
   "cell_type": "markdown",
   "id": "0c150434-ef69-40d5-966f-e781c7a200a9",
   "metadata": {},
   "source": [
    "## Contrastive"
   ]
  },
  {
   "cell_type": "code",
   "execution_count": 12,
   "id": "ef4b7e7f-a74d-41ee-a23a-9fcf3812bfe8",
   "metadata": {},
   "outputs": [
    {
     "data": {
      "text/plain": [
       "0.08690942561372665"
      ]
     },
     "execution_count": 12,
     "metadata": {},
     "output_type": "execute_result"
    }
   ],
   "source": [
    "Mean_StrongGen_Age_contrastive_accuracy = np.mean(StrongGen_Age_contrastive_accuracy)\n",
    "Mean_StrongGen_Age_contrastive_accuracy\n"
   ]
  },
  {
   "cell_type": "markdown",
   "id": "729983d7-0dce-4cfa-bdaf-40cff5dcc3ca",
   "metadata": {},
   "source": [
    "# PCT"
   ]
  },
  {
   "cell_type": "markdown",
   "id": "72e5e588-fb56-49ff-88e1-0d5629e33eb2",
   "metadata": {},
   "source": [
    "## Age"
   ]
  },
  {
   "cell_type": "code",
   "execution_count": 13,
   "id": "b92e827a-c66d-495f-9200-cd05996d01a6",
   "metadata": {},
   "outputs": [],
   "source": [
    "StrongGen_Age_naive_accuracy_pct = np.loadtxt(\"./strong_generalization/regression/pct/Age/Naive/Loss.txt\")\n",
    "StrongGen_Age_contrastive_accuracy_pct = np.loadtxt(\"./strong_generalization/regression/pct/Age/Contrastive/Loss.txt\")\n"
   ]
  },
  {
   "cell_type": "code",
   "execution_count": 14,
   "id": "23d41b03-0181-4f31-bb8c-d3c61027f39d",
   "metadata": {},
   "outputs": [
    {
     "data": {
      "text/plain": [
       "0.07400905708034652"
      ]
     },
     "execution_count": 14,
     "metadata": {},
     "output_type": "execute_result"
    }
   ],
   "source": [
    "Mean_StrongGen_Age_naive_accuracy_pct = np.mean(StrongGen_Age_naive_accuracy_pct)\n",
    "Mean_StrongGen_Age_naive_accuracy_pct\n"
   ]
  },
  {
   "cell_type": "code",
   "execution_count": 15,
   "id": "129f1829-6f27-431d-8ee0-84da58103461",
   "metadata": {},
   "outputs": [
    {
     "data": {
      "text/plain": [
       "0.08079115871624913"
      ]
     },
     "execution_count": 15,
     "metadata": {},
     "output_type": "execute_result"
    }
   ],
   "source": [
    "Mean_StrongGen_Age_contrastive_accuracy_pct = np.mean(StrongGen_Age_contrastive_accuracy_pct)\n",
    "Mean_StrongGen_Age_contrastive_accuracy_pct\n"
   ]
  },
  {
   "cell_type": "markdown",
   "id": "6fc159e6-3d60-45f1-9da7-0b4c30b9fb8d",
   "metadata": {},
   "source": [
    "## Height"
   ]
  },
  {
   "cell_type": "code",
   "execution_count": 16,
   "id": "efa1fccc-db1d-4331-a192-6d8c47375077",
   "metadata": {},
   "outputs": [],
   "source": [
    "StrongGen_Height_naive_accuracy_pct = np.loadtxt(\"./strong_generalization/regression/pct/Height/Naive/Loss.txt\")\n",
    "StrongGen_Height_contrastive_accuracy_pct = np.loadtxt(\"./strong_generalization/regression/pct/Height/Contrastive/Loss.txt\")\n"
   ]
  },
  {
   "cell_type": "code",
   "execution_count": 17,
   "id": "0e49c629-20ed-4bec-9efe-20858679b299",
   "metadata": {},
   "outputs": [
    {
     "data": {
      "text/plain": [
       "0.06724194696788989"
      ]
     },
     "execution_count": 17,
     "metadata": {},
     "output_type": "execute_result"
    }
   ],
   "source": [
    "Mean_StrongGen_Height_naive_accuracy_pct = np.mean(StrongGen_Height_naive_accuracy_pct)\n",
    "Mean_StrongGen_Height_naive_accuracy_pct\n"
   ]
  },
  {
   "cell_type": "code",
   "execution_count": 18,
   "id": "46e8fc1b-d3f4-4cfa-acf9-9e7958d6f49e",
   "metadata": {},
   "outputs": [
    {
     "data": {
      "text/plain": [
       "0.04715594734191299"
      ]
     },
     "execution_count": 18,
     "metadata": {},
     "output_type": "execute_result"
    }
   ],
   "source": [
    "Mean_StrongGen_Height_contrastive_accuracy_pct = np.mean(StrongGen_Height_contrastive_accuracy_pct)\n",
    "Mean_StrongGen_Height_contrastive_accuracy_pct\n"
   ]
  },
  {
   "cell_type": "markdown",
   "id": "e567deba-dd5f-42ad-8d56-07ff3065a234",
   "metadata": {},
   "source": [
    "## Weight"
   ]
  },
  {
   "cell_type": "code",
   "execution_count": 19,
   "id": "595f66dc-180c-456d-b5cc-9be738422f7e",
   "metadata": {},
   "outputs": [],
   "source": [
    "StrongGen_Weight_naive_accuracy_pct = np.loadtxt(\"./strong_generalization/regression/pct/Weight/Naive/Loss.txt\")\n",
    "StrongGen_Weight_contrastive_accuracy_pct = np.loadtxt(\"./strong_generalization/regression/pct/Weight/Contrastive/Loss.txt\")\n"
   ]
  },
  {
   "cell_type": "code",
   "execution_count": 20,
   "id": "535c4a2d-a1c9-44e2-8d53-6f0d3c7f3bf8",
   "metadata": {},
   "outputs": [
    {
     "data": {
      "text/plain": [
       "0.05793542083738976"
      ]
     },
     "execution_count": 20,
     "metadata": {},
     "output_type": "execute_result"
    }
   ],
   "source": [
    "Mean_StrongGen_Weight_naive_accuracy_pct = np.mean(StrongGen_Weight_naive_accuracy_pct)\n",
    "Mean_StrongGen_Weight_naive_accuracy_pct\n"
   ]
  },
  {
   "cell_type": "code",
   "execution_count": 21,
   "id": "d0d802e7-2dad-4210-b2e5-50c2da08660b",
   "metadata": {},
   "outputs": [
    {
     "data": {
      "text/plain": [
       "0.03712924961755332"
      ]
     },
     "execution_count": 21,
     "metadata": {},
     "output_type": "execute_result"
    }
   ],
   "source": [
    "Mean_StrongGen_Weight_contrastive_accuracy_pct = np.mean(StrongGen_Weight_contrastive_accuracy_pct)\n",
    "Mean_StrongGen_Weight_contrastive_accuracy_pct\n"
   ]
  },
  {
   "cell_type": "code",
   "execution_count": null,
   "id": "a7a0cc51-cfd4-4f6b-8452-ae2d4799357e",
   "metadata": {},
   "outputs": [],
   "source": []
  }
 ],
 "metadata": {
  "kernelspec": {
   "display_name": "Python 3 (ipykernel)",
   "language": "python",
   "name": "python3"
  },
  "language_info": {
   "codemirror_mode": {
    "name": "ipython",
    "version": 3
   },
   "file_extension": ".py",
   "mimetype": "text/x-python",
   "name": "python",
   "nbconvert_exporter": "python",
   "pygments_lexer": "ipython3",
   "version": "3.7.16"
  }
 },
 "nbformat": 4,
 "nbformat_minor": 5
}
